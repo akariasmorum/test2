{
 "cells": [
  {
   "cell_type": "markdown",
   "metadata": {},
   "source": [
    "# Welcome to Jupyter!"
   ]
  },
  {
   "cell_type": "markdown",
   "metadata": {},
   "source": [
    "shift + enter"
   ]
  },
  {
   "cell_type": "markdown",
   "metadata": {},
   "source": []
  },
  {
   "cell_type": "code",
   "execution_count": 126,
   "metadata": {},
   "outputs": [],
   "source": [
    "import random\n",
    "\n",
    "\n",
    "def if_list_has_repeating_cicle(l: list) ->bool:\n",
    "    \"есть ли в списке повторяющиеся элементы циклом\"\n",
    "    i = 0\n",
    "    for z in l:\n",
    "        \n",
    "        for q in l[i+1:]:\n",
    "            if z == q:\n",
    "                return True\n",
    "        i = i+1    \n",
    "    return False\n",
    "\n",
    "\n",
    "def if_list_has_repeating_set(l: list) -> bool:\n",
    "    \"есть ли в списке повторяющиеся элементы сетом\"\n",
    "    s = set(l)    \n",
    "    if len(s) == len(l):\n",
    "        return False\n",
    "    else:\n",
    "        return True\n",
    "    \n",
    "\n",
    "def rlist(num: int) -> list:\n",
    "    return [random.randint(1, 10000) for _ in range(num)]\n",
    "\n",
    "\n"
   ]
  },
  {
   "cell_type": "code",
   "execution_count": 127,
   "metadata": {},
   "outputs": [],
   "source": [
    "import time"
   ]
  },
  {
   "cell_type": "code",
   "execution_count": 136,
   "metadata": {},
   "outputs": [],
   "source": [
    "def hmt(f, cicle_num, *args):\n",
    "    '''возвращает среднее время выполнения\n",
    "    функции f, \n",
    "    c параметрами args,\n",
    "    выполнения cicle_num раз, для получения среднего времени\n",
    "    '''\n",
    "    start = time.time()\n",
    "    for t in range(0, cicle_num):\n",
    "        result = f(*args)    \n",
    "    dif = (time.time() - start)/cicle_num    \n",
    "    return dif"
   ]
  },
  {
   "cell_type": "code",
   "execution_count": 137,
   "metadata": {},
   "outputs": [],
   "source": [
    "cicle_times = []\n",
    "set_times = []\n",
    "x = [10, 100, 1000, 10000, 100000]"
   ]
  },
  {
   "cell_type": "code",
   "execution_count": 138,
   "metadata": {},
   "outputs": [],
   "source": [
    "for xi in x:\n",
    "    rlisti = rlist(xi)\n",
    "    cicle_times.append(hmt(if_list_has_repeating_cicle, 100, rlisti))\n",
    "    set_times.append(hmt(if_list_has_repeating_set, 100, rlisti))\n",
    "\n",
    "    "
   ]
  },
  {
   "cell_type": "code",
   "execution_count": 139,
   "metadata": {},
   "outputs": [],
   "source": [
    "%matplotlib inline\n",
    "import matplotlib.pyplot as plt\n"
   ]
  },
  {
   "cell_type": "code",
   "execution_count": 140,
   "metadata": {},
   "outputs": [
    {
     "data": {
      "image/png": "[encoded data removed]",
      "text/plain": [
       "<Figure size 432x288 with 1 Axes>"
      ]
     },
     "metadata": {
      "needs_background": "light"
     },
     "output_type": "display_data"
    }
   ],
   "source": [
    "plt.plot(x, cicle_times, color='blue') \n",
    "plt.plot(x, set_times, color = 'red')\n",
    "plt.show()"
   ]
  },
  {
   "cell_type": "code",
   "execution_count": 141,
   "metadata": {},
   "outputs": [
    {
     "data": {
      "text/plain": [
       "' красным обозначена время выполнения проверки\\n    на основе set(далее сет), синим же на основе циклов(далее циклы),\\n    я примерно полагал, что сложность у циклов будет (n^2)/2, а у сета n,\\n    но прогнав пару раз тут тесты, получаем, что время выполнения сета и циклов\\n    уравниваются примерно на n=6000 и далее циклы выигрывают\\n    может это какая-то особенность Jupiter или у меня баг...'"
      ]
     },
     "execution_count": 141,
     "metadata": {},
     "output_type": "execute_result"
    }
   ],
   "source": [
    "''' красным обозначена время выполнения проверки\n",
    "    на основе set(далее сет), синим же на основе циклов(далее циклы),\n",
    "    я примерно полагал, что сложность у циклов будет (n^2)/2, а у сета n,\n",
    "    но прогнав пару раз тут тесты, получаем, что время выполнения сета и циклов\n",
    "    уравниваются примерно на n=6000 и далее циклы выигрывают\n",
    "    может это какая-то особенность Jupiter или у меня баг...'''"
   ]
  },
  {
   "cell_type": "code",
   "execution_count": null,
   "metadata": {},
   "outputs": [],
   "source": []
  }
 ],
 "metadata": {
  "kernelspec": {
   "display_name": "Python 3",
   "language": "python",
   "name": "python3"
  },
  "language_info": {
   "codemirror_mode": {
    "name": "ipython",
    "version": 3
   },
   "file_extension": ".py",
   "mimetype": "text/x-python",
   "name": "python",
   "nbconvert_exporter": "python",
   "pygments_lexer": "ipython3",
   "version": "3.6.7"
  }
 },
 "nbformat": 4,
 "nbformat_minor": 2
}
